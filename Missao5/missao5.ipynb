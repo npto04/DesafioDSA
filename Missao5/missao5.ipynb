{
 "cells": [
  {
   "cell_type": "markdown",
   "metadata": {},
   "source": [
    "# <font color='blue'>Data Science Academy - Python Fundamentos - Capítulo 7</font>\n",
    "\n",
    "## Download: http://github.com/dsacademybr"
   ]
  },
  {
   "cell_type": "code",
   "execution_count": null,
   "metadata": {},
   "outputs": [],
   "source": [
    "# Versão da Linguagem Python\n",
    "from platform import python_version\n",
    "print('Versão da Linguagem Python Usada Neste Jupyter Notebook:', python_version())"
   ]
  },
  {
   "cell_type": "markdown",
   "metadata": {},
   "source": [
    "## Missão: Analisar o Comportamento de Compra de Consumidores."
   ]
  },
  {
   "cell_type": "markdown",
   "metadata": {},
   "source": [
    "## Nível de Dificuldade: Alto"
   ]
  },
  {
   "cell_type": "markdown",
   "metadata": {},
   "source": [
    "Você recebeu a tarefa de analisar os dados de compras de um web site! Os dados estão no formato JSON e disponíveis junto com este notebook.\n",
    "\n",
    "No site, cada usuário efetua login usando sua conta pessoal e pode adquirir produtos à medida que navega pela lista de produtos oferecidos. Cada produto possui um valor de venda. Dados de idade e sexo de cada usuário foram coletados e estão fornecidos no arquivo JSON.\n",
    "\n",
    "Seu trabalho é entregar uma análise de comportamento de compra dos consumidores. Esse é um tipo de atividade comum realizado por Cientistas de Dados e o resultado deste trabalho pode ser usado, por exemplo, para alimentar um modelo de Machine Learning e fazer previsões sobre comportamentos futuros.\n",
    "\n",
    "Mas nesta missão você vai analisar o comportamento de compra dos consumidores usando o pacote Pandas da linguagem Python e seu relatório final deve incluir cada um dos seguintes itens:\n",
    "\n",
    "** Contagem de Consumidores **\n",
    "\n",
    "* Número total de consumidores\n",
    "\n",
    "\n",
    "** Análise Geral de Compras **\n",
    "\n",
    "* Número de itens exclusivos\n",
    "* Preço médio de compra\n",
    "* Número total de compras\n",
    "* Rendimento total\n",
    "\n",
    "\n",
    "** Informações Demográficas Por Gênero **\n",
    "\n",
    "* Porcentagem e contagem de compradores masculinos\n",
    "* Porcentagem e contagem de compradores do sexo feminino\n",
    "* Porcentagem e contagem de outros / não divulgados\n",
    "\n",
    "\n",
    "** Análise de Compras Por Gênero **\n",
    "\n",
    "* Número de compras\n",
    "* Preço médio de compra\n",
    "* Valor Total de Compra\n",
    "* Compras for faixa etária\n",
    "\n",
    "\n",
    "** Identifique os 5 principais compradores pelo valor total de compra e, em seguida, liste (em uma tabela): **\n",
    "\n",
    "* Login\n",
    "* Número de compras\n",
    "* Preço médio de compra\n",
    "* Valor Total de Compra\n",
    "* Itens mais populares\n",
    "\n",
    "\n",
    "** Identifique os 5 itens mais populares por contagem de compras e, em seguida, liste (em uma tabela): **\n",
    "\n",
    "* ID do item\n",
    "* Nome do item\n",
    "* Número de compras\n",
    "* Preço do item\n",
    "* Valor Total de Compra\n",
    "* Itens mais lucrativos\n",
    "\n",
    "\n",
    "** Identifique os 5 itens mais lucrativos pelo valor total de compra e, em seguida, liste (em uma tabela): **\n",
    "\n",
    "* ID do item\n",
    "* Nome do item\n",
    "* Número de compras\n",
    "* Preço do item\n",
    "* Valor Total de Compra\n",
    "\n",
    "\n",
    "** Como considerações finais: **\n",
    "\n",
    "* Seu script deve funcionar para o conjunto de dados fornecido.\n",
    "* Você deve usar a Biblioteca Pandas e o Jupyter Notebook.\n"
   ]
  },
  {
   "cell_type": "code",
   "execution_count": 1,
   "metadata": {},
   "outputs": [],
   "source": [
    "# Imports\n",
    "import pandas as pd\n",
    "import numpy as np"
   ]
  },
  {
   "cell_type": "code",
   "execution_count": 2,
   "metadata": {},
   "outputs": [
    {
     "data": {
      "text/html": [
       "<div>\n",
       "<style scoped>\n",
       "    .dataframe tbody tr th:only-of-type {\n",
       "        vertical-align: middle;\n",
       "    }\n",
       "\n",
       "    .dataframe tbody tr th {\n",
       "        vertical-align: top;\n",
       "    }\n",
       "\n",
       "    .dataframe thead th {\n",
       "        text-align: right;\n",
       "    }\n",
       "</style>\n",
       "<table border=\"1\" class=\"dataframe\">\n",
       "  <thead>\n",
       "    <tr style=\"text-align: right;\">\n",
       "      <th></th>\n",
       "      <th>Login</th>\n",
       "      <th>Idade</th>\n",
       "      <th>Sexo</th>\n",
       "      <th>Item ID</th>\n",
       "      <th>Nome do Item</th>\n",
       "      <th>Valor</th>\n",
       "    </tr>\n",
       "  </thead>\n",
       "  <tbody>\n",
       "    <tr>\n",
       "      <th>0</th>\n",
       "      <td>Aelalis34</td>\n",
       "      <td>38</td>\n",
       "      <td>Masculino</td>\n",
       "      <td>165</td>\n",
       "      <td>Bone Crushing Silver Skewer</td>\n",
       "      <td>3.37</td>\n",
       "    </tr>\n",
       "    <tr>\n",
       "      <th>1</th>\n",
       "      <td>Eolo46</td>\n",
       "      <td>21</td>\n",
       "      <td>Masculino</td>\n",
       "      <td>119</td>\n",
       "      <td>Stormbringer, Dark Blade of Ending Misery</td>\n",
       "      <td>2.32</td>\n",
       "    </tr>\n",
       "    <tr>\n",
       "      <th>2</th>\n",
       "      <td>Assastnya25</td>\n",
       "      <td>34</td>\n",
       "      <td>Masculino</td>\n",
       "      <td>174</td>\n",
       "      <td>Primitive Blade</td>\n",
       "      <td>2.46</td>\n",
       "    </tr>\n",
       "    <tr>\n",
       "      <th>3</th>\n",
       "      <td>Pheusrical25</td>\n",
       "      <td>21</td>\n",
       "      <td>Masculino</td>\n",
       "      <td>92</td>\n",
       "      <td>Final Critic</td>\n",
       "      <td>1.36</td>\n",
       "    </tr>\n",
       "    <tr>\n",
       "      <th>4</th>\n",
       "      <td>Aela59</td>\n",
       "      <td>23</td>\n",
       "      <td>Masculino</td>\n",
       "      <td>63</td>\n",
       "      <td>Stormfury Mace</td>\n",
       "      <td>1.27</td>\n",
       "    </tr>\n",
       "  </tbody>\n",
       "</table>\n",
       "</div>"
      ],
      "text/plain": [
       "          Login  Idade       Sexo  Item ID  \\\n",
       "0     Aelalis34     38  Masculino      165   \n",
       "1        Eolo46     21  Masculino      119   \n",
       "2   Assastnya25     34  Masculino      174   \n",
       "3  Pheusrical25     21  Masculino       92   \n",
       "4        Aela59     23  Masculino       63   \n",
       "\n",
       "                                Nome do Item  Valor  \n",
       "0                Bone Crushing Silver Skewer   3.37  \n",
       "1  Stormbringer, Dark Blade of Ending Misery   2.32  \n",
       "2                            Primitive Blade   2.46  \n",
       "3                               Final Critic   1.36  \n",
       "4                             Stormfury Mace   1.27  "
      ]
     },
     "execution_count": 2,
     "metadata": {},
     "output_type": "execute_result"
    }
   ],
   "source": [
    "# Carrega o arquivo\n",
    "load_file = \"dados_compras.json\"\n",
    "purchase_file = pd.read_json(load_file, orient = \"records\")\n",
    "purchase_file.head()"
   ]
  },
  {
   "cell_type": "markdown",
   "metadata": {},
   "source": [
    "## Informações Sobre os Consumidores"
   ]
  },
  {
   "cell_type": "code",
   "execution_count": null,
   "metadata": {},
   "outputs": [],
   "source": [
    "# Número total de consumidores\n",
    "consumidores = purchase_file[\"Login\"]\n",
    "consumidores = consumidores.drop_duplicates()\n",
    "\n",
    "print(\"Quantidade de consumidores:\", consumidores.count())"
   ]
  },
  {
   "cell_type": "markdown",
   "metadata": {},
   "source": [
    "## Análise Geral de Compras"
   ]
  },
  {
   "cell_type": "code",
   "execution_count": null,
   "metadata": {},
   "outputs": [],
   "source": [
    "#Número de itens exclusivos\n",
    "itemCount = purchase_file[\"Item ID\"].drop_duplicates().count()\n",
    "print(\"Número de itens exclusivos:\", itemCount)\n",
    "\n",
    "\n",
    "#Preço médio de compra\n",
    "averagePrice = purchase_file[\"Valor\"].mean()\n",
    "formatter = \"${:,.2f}\".format\n",
    "print(\"Preço médio de compra:\",formatter(averagePrice))\n",
    "\n",
    "#Número total de compras\n",
    "print(\"Número total de compras:\",len(purchase_file[\"Valor\"]))\n",
    "\n",
    "#Rendimento total\n",
    "totalCompras = purchase_file[\"Valor\"].sum()\n",
    "print(\"Rendimento total:\",formatter(totalCompras))"
   ]
  },
  {
   "cell_type": "markdown",
   "metadata": {},
   "source": [
    "## Análise Demográfica"
   ]
  },
  {
   "cell_type": "code",
   "execution_count": null,
   "metadata": {},
   "outputs": [],
   "source": [
    "usuarios = purchase_file.loc[:, [\"Sexo\", \"Login\", \"Idade\"]]\n",
    "usuarios.head()"
   ]
  },
  {
   "cell_type": "code",
   "execution_count": null,
   "metadata": {},
   "outputs": [],
   "source": [
    "usuarios = usuarios.drop_duplicates()\n",
    "usersGenrer = usuarios[\"Sexo\"].value_counts()\n",
    "print(usersGenrer)\n",
    "usersGengerPercent = usuarios[\"Sexo\"].value_counts(normalize=True)\n",
    "print(usersGengerPercent)"
   ]
  },
  {
   "cell_type": "markdown",
   "metadata": {},
   "source": [
    "## Informações Demográficas Por Gênero"
   ]
  },
  {
   "cell_type": "code",
   "execution_count": null,
   "metadata": {},
   "outputs": [],
   "source": [
    "# Porcentagem e contagem de compradores masculinos\n",
    "usersMale = usersGenrer[\"Masculino\"]\n",
    "usersMalePercent = usersGengerPercent[\"Masculino\"]\n",
    "print(\"Compradores masculinos:\", usersMale, \"(\",100*usersMalePercent,\"%)\")\n",
    "\n",
    "# Porcentagem e contagem de compradores do sexo feminino\n",
    "usersFemale = usersGenrer[\"Feminino\"]\n",
    "usersFemalePercent = usersGengerPercent[\"Feminino\"]\n",
    "print(\"Compradores feminino:\", usersFemale, \"(\",100*usersFemalePercent,\"%)\")\n",
    "\n",
    "# Porcentagem e contagem de outros / não divulgados\n",
    "usersOthers = usersGenrer[\"Outro / Não Divulgado\"]\n",
    "usersOthersPercent = usersGengerPercent[\"Outro / Não Divulgado\"]\n",
    "print(\"Compradores Outro / Não Divulgado:\", usersOthers, \"(\",100*usersOthersPercent,\"%)\")\n"
   ]
  },
  {
   "cell_type": "markdown",
   "metadata": {},
   "source": [
    "## Análise de Compras Por Gênero"
   ]
  },
  {
   "cell_type": "code",
   "execution_count": null,
   "metadata": {
    "scrolled": true
   },
   "outputs": [],
   "source": [
    "menPurchases = purchase_file.where(purchase_file[\"Sexo\"] == \"Masculino\")\n",
    "menPurchases = menPurchases.dropna()\n",
    "\n",
    "womenPurchases = purchase_file.where(purchase_file[\"Sexo\"] == \"Feminino\")\n",
    "womenPurchases = womenPurchases.dropna()\n",
    "\n",
    "othersPurchases = purchase_file.where(purchase_file[\"Sexo\"] == \"Outro / Não Divulgado\")\n",
    "othersPurchases = othersPurchases.dropna()\n",
    "\n",
    "# Número de compras\n",
    "print(\"Número de compras por homens:\", len(menPurchases[\"Valor\"]))\n",
    "\n",
    "print(\"Número de compras por mulheres:\", len(womenPurchases[\"Valor\"]))\n",
    "\n",
    "print(\"Número de compras por Outro / Não Divulgado:\", len(othersPurchases[\"Valor\"]))\n",
    "\n",
    "# Preço médio de compra\n",
    "averagePriceMen = menPurchases[\"Valor\"].mean()\n",
    "formatter = \"${:,.2f}\".format\n",
    "print(\"Preço médio de compra por homens:\",formatter(averagePriceMen))\n",
    "\n",
    "averagePriceWomen = womenPurchases[\"Valor\"].mean()\n",
    "formatter = \"${:,.2f}\".format\n",
    "print(\"Preço médio de compra por mulheres:\",formatter(averagePriceWomen))\n",
    "\n",
    "averagePriceOthers = othersPurchases[\"Valor\"].mean()\n",
    "formatter = \"${:,.2f}\".format\n",
    "print(\"Preço médio de compra por Outro / Não Divulgado:\",formatter(averagePriceOthers))\n",
    "\n",
    "# Valor Total de Compra\n",
    "menPurchasesTotal = menPurchases[\"Valor\"].sum()\n",
    "print(\"Rendimento total por homens:\",formatter(menPurchasesTotal))\n",
    "      \n",
    "womenPurchasesTotal = womenPurchases[\"Valor\"].sum()\n",
    "print(\"Rendimento total por homens:\",formatter(womenPurchasesTotal))\n",
    "      \n",
    "othersPurchasesTotal = othersPurchases[\"Valor\"].sum()\n",
    "print(\"Rendimento total por homens:\",formatter(othersPurchasesTotal))\n",
    "\n",
    "# Compras for faixa etária\n",
    "menPurchasesByAge = menPurchases[[\"Login\",\"Idade\"]].drop_duplicates()\n",
    "menPurchasesByAge = menPurchasesByAge[\"Idade\"].astype(np.int64).value_counts()\n",
    "\n",
    "womenPurchasesByAge = womenPurchases[[\"Login\",\"Idade\"]].drop_duplicates()\n",
    "womenPurchasesByAge = womenPurchasesByAge[\"Idade\"].astype(np.int64).value_counts()\n",
    "\n",
    "othersPurchasesByAge = othersPurchases[[\"Login\",\"Idade\"]].drop_duplicates()\n",
    "othersPurchasesByAge = othersPurchasesByAge[\"Idade\"].astype(np.int64).value_counts()\n"
   ]
  },
  {
   "cell_type": "code",
   "execution_count": null,
   "metadata": {
    "scrolled": true
   },
   "outputs": [],
   "source": [
    "graphMen = menPurchasesByAge.plot.barh(x= 'Idades', y= 'compras')\n"
   ]
  },
  {
   "cell_type": "code",
   "execution_count": null,
   "metadata": {},
   "outputs": [],
   "source": [
    "graphWomen = womenPurchasesByAge.plot.barh(x= 'Idades', y= 'compras')\n"
   ]
  },
  {
   "cell_type": "code",
   "execution_count": null,
   "metadata": {},
   "outputs": [],
   "source": [
    "graphOthers = othersPurchasesByAge.plot.barh(x= 'Idades', y= 'compras')\n"
   ]
  },
  {
   "cell_type": "markdown",
   "metadata": {},
   "source": [
    "## Consumidores Mais Populares (Top 5)"
   ]
  },
  {
   "cell_type": "code",
   "execution_count": null,
   "metadata": {},
   "outputs": [],
   "source": [
    "#Identifique os 5 principais compradores pelo valor total de compra e, em seguida, liste (em uma tabela): **\n",
    "#Login\n",
    "#Número de compras\n",
    "#Preço médio de compra\n",
    "#Valor Total de Compra\n",
    "purchasesSum = purchase_file.groupby(['Login']).sum()['Valor']\n",
    "purchasesCount = purchase_file.groupby(['Login']).count()['Valor']\n",
    "purchasesMean = purchase_file.groupby(['Login']).mean()['Valor']\n",
    "df_top5 = pd.DataFrame(data = {'Número de compras': purchasesCount, 'Preço médio de compra': purchasesMean, 'Valor Total de Compra': purchasesSum})\n",
    "\n"
   ]
  },
  {
   "cell_type": "code",
   "execution_count": null,
   "metadata": {},
   "outputs": [],
   "source": [
    "df_top5 = df_top5.sort_values(by=['Valor Total de Compra'], ascending = False).head()\n",
    "df_top5"
   ]
  },
  {
   "cell_type": "markdown",
   "metadata": {},
   "source": [
    "## Itens Mais Populares"
   ]
  },
  {
   "cell_type": "code",
   "execution_count": 23,
   "metadata": {
    "scrolled": false
   },
   "outputs": [],
   "source": [
    "#** Identifique os 5 itens mais populares por contagem de compras e, em seguida, liste (em uma tabela): **\n",
    "# ID do item\n",
    "#Nome do item\n",
    "#Número de compras\n",
    "#Preço do item\n",
    "#Valor Total de Compra\n",
    "prods = purchase_file[['Item ID','Nome do Item',\"Valor\"]]\n",
    "prods = prods.set_index('Nome do Item').dropna()\n",
    "prdtosCnt = purchase_file.groupby([\"Nome do Item\"]).count()[\"Valor\"]\n",
    "prdtosSum = purchase_file.groupby([\"Nome do Item\"]).sum()['Valor']\n",
    "prods['Número de compras'] = prdtosCnt\n",
    "prods['Valor Total de Compra'] = prdtosSum\n",
    "prods [\"Valor Total de Compra\"] = prods[\"Valor Total de Compra\"].map(\"${:,.2f}\".format)\n",
    "prods [\"Valor\"] = prods[\"Valor\"].map(\"${:,.2f}\".format)\n",
    "prods = prods.rename(columns={\"Valor\": \"Preço do item\"})\n",
    "pop5 = prods.sort_values(by=['Número de compras'], ascending = False).drop_duplicates().head()"
   ]
  },
  {
   "cell_type": "code",
   "execution_count": 24,
   "metadata": {},
   "outputs": [
    {
     "data": {
      "text/html": [
       "<div>\n",
       "<style scoped>\n",
       "    .dataframe tbody tr th:only-of-type {\n",
       "        vertical-align: middle;\n",
       "    }\n",
       "\n",
       "    .dataframe tbody tr th {\n",
       "        vertical-align: top;\n",
       "    }\n",
       "\n",
       "    .dataframe thead th {\n",
       "        text-align: right;\n",
       "    }\n",
       "</style>\n",
       "<table border=\"1\" class=\"dataframe\">\n",
       "  <thead>\n",
       "    <tr style=\"text-align: right;\">\n",
       "      <th></th>\n",
       "      <th>Item ID</th>\n",
       "      <th>Preço do item</th>\n",
       "      <th>Número de compras</th>\n",
       "      <th>Valor Total de Compra</th>\n",
       "    </tr>\n",
       "    <tr>\n",
       "      <th>Nome do Item</th>\n",
       "      <th></th>\n",
       "      <th></th>\n",
       "      <th></th>\n",
       "      <th></th>\n",
       "    </tr>\n",
       "  </thead>\n",
       "  <tbody>\n",
       "    <tr>\n",
       "      <th>Final Critic</th>\n",
       "      <td>101</td>\n",
       "      <td>$4.62</td>\n",
       "      <td>14</td>\n",
       "      <td>$38.60</td>\n",
       "    </tr>\n",
       "    <tr>\n",
       "      <th>Final Critic</th>\n",
       "      <td>92</td>\n",
       "      <td>$1.36</td>\n",
       "      <td>14</td>\n",
       "      <td>$38.60</td>\n",
       "    </tr>\n",
       "    <tr>\n",
       "      <th>Betrayal, Whisper of Grieving Widows</th>\n",
       "      <td>39</td>\n",
       "      <td>$2.35</td>\n",
       "      <td>11</td>\n",
       "      <td>$25.85</td>\n",
       "    </tr>\n",
       "    <tr>\n",
       "      <th>Arcane Gem</th>\n",
       "      <td>84</td>\n",
       "      <td>$2.23</td>\n",
       "      <td>11</td>\n",
       "      <td>$24.53</td>\n",
       "    </tr>\n",
       "    <tr>\n",
       "      <th>Stormcaller</th>\n",
       "      <td>180</td>\n",
       "      <td>$2.78</td>\n",
       "      <td>10</td>\n",
       "      <td>$34.65</td>\n",
       "    </tr>\n",
       "  </tbody>\n",
       "</table>\n",
       "</div>"
      ],
      "text/plain": [
       "                                      Item ID Preço do item  \\\n",
       "Nome do Item                                                  \n",
       "Final Critic                              101         $4.62   \n",
       "Final Critic                               92         $1.36   \n",
       "Betrayal, Whisper of Grieving Widows       39         $2.35   \n",
       "Arcane Gem                                 84         $2.23   \n",
       "Stormcaller                               180         $2.78   \n",
       "\n",
       "                                      Número de compras Valor Total de Compra  \n",
       "Nome do Item                                                                   \n",
       "Final Critic                                         14                $38.60  \n",
       "Final Critic                                         14                $38.60  \n",
       "Betrayal, Whisper of Grieving Widows                 11                $25.85  \n",
       "Arcane Gem                                           11                $24.53  \n",
       "Stormcaller                                          10                $34.65  "
      ]
     },
     "execution_count": 24,
     "metadata": {},
     "output_type": "execute_result"
    }
   ],
   "source": [
    "pop5"
   ]
  },
  {
   "cell_type": "markdown",
   "metadata": {},
   "source": [
    "## Itens Mais Lucrativos"
   ]
  },
  {
   "cell_type": "code",
   "execution_count": 21,
   "metadata": {},
   "outputs": [
    {
     "data": {
      "text/html": [
       "<div>\n",
       "<style scoped>\n",
       "    .dataframe tbody tr th:only-of-type {\n",
       "        vertical-align: middle;\n",
       "    }\n",
       "\n",
       "    .dataframe tbody tr th {\n",
       "        vertical-align: top;\n",
       "    }\n",
       "\n",
       "    .dataframe thead th {\n",
       "        text-align: right;\n",
       "    }\n",
       "</style>\n",
       "<table border=\"1\" class=\"dataframe\">\n",
       "  <thead>\n",
       "    <tr style=\"text-align: right;\">\n",
       "      <th></th>\n",
       "      <th>Item ID</th>\n",
       "      <th>Preço do item</th>\n",
       "      <th>Número de compras</th>\n",
       "      <th>Valor Total de Compra</th>\n",
       "    </tr>\n",
       "    <tr>\n",
       "      <th>Nome do Item</th>\n",
       "      <th></th>\n",
       "      <th></th>\n",
       "      <th></th>\n",
       "      <th></th>\n",
       "    </tr>\n",
       "  </thead>\n",
       "  <tbody>\n",
       "    <tr>\n",
       "      <th>Shadowsteel</th>\n",
       "      <td>170</td>\n",
       "      <td>$1.98</td>\n",
       "      <td>5</td>\n",
       "      <td>$9.90</td>\n",
       "    </tr>\n",
       "    <tr>\n",
       "      <th>Shadowsteel</th>\n",
       "      <td>170</td>\n",
       "      <td>$1.98</td>\n",
       "      <td>5</td>\n",
       "      <td>$9.90</td>\n",
       "    </tr>\n",
       "    <tr>\n",
       "      <th>Shadowsteel</th>\n",
       "      <td>170</td>\n",
       "      <td>$1.98</td>\n",
       "      <td>5</td>\n",
       "      <td>$9.90</td>\n",
       "    </tr>\n",
       "    <tr>\n",
       "      <th>Shadowsteel</th>\n",
       "      <td>170</td>\n",
       "      <td>$1.98</td>\n",
       "      <td>5</td>\n",
       "      <td>$9.90</td>\n",
       "    </tr>\n",
       "    <tr>\n",
       "      <th>Shadowsteel</th>\n",
       "      <td>170</td>\n",
       "      <td>$1.98</td>\n",
       "      <td>5</td>\n",
       "      <td>$9.90</td>\n",
       "    </tr>\n",
       "    <tr>\n",
       "      <th>...</th>\n",
       "      <td>...</td>\n",
       "      <td>...</td>\n",
       "      <td>...</td>\n",
       "      <td>...</td>\n",
       "    </tr>\n",
       "    <tr>\n",
       "      <th>Exiled Doomblade</th>\n",
       "      <td>164</td>\n",
       "      <td>$1.92</td>\n",
       "      <td>1</td>\n",
       "      <td>$1.92</td>\n",
       "    </tr>\n",
       "    <tr>\n",
       "      <th>Splinter</th>\n",
       "      <td>0</td>\n",
       "      <td>$1.82</td>\n",
       "      <td>1</td>\n",
       "      <td>$1.82</td>\n",
       "    </tr>\n",
       "    <tr>\n",
       "      <th>Phantomlight</th>\n",
       "      <td>3</td>\n",
       "      <td>$1.79</td>\n",
       "      <td>1</td>\n",
       "      <td>$1.79</td>\n",
       "    </tr>\n",
       "    <tr>\n",
       "      <th>Lightning, Etcher of the King</th>\n",
       "      <td>59</td>\n",
       "      <td>$1.65</td>\n",
       "      <td>1</td>\n",
       "      <td>$1.65</td>\n",
       "    </tr>\n",
       "    <tr>\n",
       "      <th>Soul-Forged Steel Shortsword</th>\n",
       "      <td>156</td>\n",
       "      <td>$1.16</td>\n",
       "      <td>1</td>\n",
       "      <td>$1.16</td>\n",
       "    </tr>\n",
       "  </tbody>\n",
       "</table>\n",
       "<p>780 rows × 4 columns</p>\n",
       "</div>"
      ],
      "text/plain": [
       "                               Item ID Preço do item  Número de compras  \\\n",
       "Nome do Item                                                              \n",
       "Shadowsteel                        170         $1.98                  5   \n",
       "Shadowsteel                        170         $1.98                  5   \n",
       "Shadowsteel                        170         $1.98                  5   \n",
       "Shadowsteel                        170         $1.98                  5   \n",
       "Shadowsteel                        170         $1.98                  5   \n",
       "...                                ...           ...                ...   \n",
       "Exiled Doomblade                   164         $1.92                  1   \n",
       "Splinter                             0         $1.82                  1   \n",
       "Phantomlight                         3         $1.79                  1   \n",
       "Lightning, Etcher of the King       59         $1.65                  1   \n",
       "Soul-Forged Steel Shortsword       156         $1.16                  1   \n",
       "\n",
       "                              Valor Total de Compra  \n",
       "Nome do Item                                         \n",
       "Shadowsteel                                   $9.90  \n",
       "Shadowsteel                                   $9.90  \n",
       "Shadowsteel                                   $9.90  \n",
       "Shadowsteel                                   $9.90  \n",
       "Shadowsteel                                   $9.90  \n",
       "...                                             ...  \n",
       "Exiled Doomblade                              $1.92  \n",
       "Splinter                                      $1.82  \n",
       "Phantomlight                                  $1.79  \n",
       "Lightning, Etcher of the King                 $1.65  \n",
       "Soul-Forged Steel Shortsword                  $1.16  \n",
       "\n",
       "[780 rows x 4 columns]"
      ]
     },
     "execution_count": 21,
     "metadata": {},
     "output_type": "execute_result"
    }
   ],
   "source": [
    "# ** Identifique os 5 itens mais lucrativos pelo valor total de compra e, em seguida, liste (em uma tabela): **\n",
    "\n",
    "'''ID do item\n",
    "Nome do item\n",
    "Número de compras\n",
    "Preço do item\n",
    "Valor Total de Compra'''\n",
    "prods.sort_values(by=['Valor Total de Compra'], ascending = False)"
   ]
  },
  {
   "cell_type": "markdown",
   "metadata": {
    "collapsed": true
   },
   "source": [
    "## Fim"
   ]
  },
  {
   "cell_type": "markdown",
   "metadata": {
    "collapsed": true
   },
   "source": [
    "\n",
    "### Obrigado\n",
    "\n",
    "### Visite o Blog da Data Science Academy - <a href=\"http://blog.dsacademy.com.br\">Blog DSA</a>\n"
   ]
  }
 ],
 "metadata": {
  "kernelspec": {
   "display_name": "Python 3",
   "language": "python",
   "name": "python3"
  },
  "language_info": {
   "codemirror_mode": {
    "name": "ipython",
    "version": 3
   },
   "file_extension": ".py",
   "mimetype": "text/x-python",
   "name": "python",
   "nbconvert_exporter": "python",
   "pygments_lexer": "ipython3",
   "version": "3.8.8"
  }
 },
 "nbformat": 4,
 "nbformat_minor": 2
}
